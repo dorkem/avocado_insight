{
 "cells": [
  {
   "cell_type": "code",
   "execution_count": 4,
   "id": "10bda43a",
   "metadata": {},
   "outputs": [
    {
     "data": {
      "text/html": [
       "<div>\n",
       "<style scoped>\n",
       "    .dataframe tbody tr th:only-of-type {\n",
       "        vertical-align: middle;\n",
       "    }\n",
       "\n",
       "    .dataframe tbody tr th {\n",
       "        vertical-align: top;\n",
       "    }\n",
       "\n",
       "    .dataframe thead th {\n",
       "        text-align: right;\n",
       "    }\n",
       "</style>\n",
       "<table border=\"1\" class=\"dataframe\">\n",
       "  <thead>\n",
       "    <tr style=\"text-align: right;\">\n",
       "      <th></th>\n",
       "      <th>Unnamed: 0</th>\n",
       "      <th>Date</th>\n",
       "      <th>AveragePrice</th>\n",
       "      <th>Total Volume</th>\n",
       "      <th>4046</th>\n",
       "      <th>4225</th>\n",
       "      <th>4770</th>\n",
       "      <th>Total Bags</th>\n",
       "      <th>Small Bags</th>\n",
       "      <th>Large Bags</th>\n",
       "      <th>XLarge Bags</th>\n",
       "      <th>type</th>\n",
       "      <th>year</th>\n",
       "      <th>region</th>\n",
       "    </tr>\n",
       "  </thead>\n",
       "  <tbody>\n",
       "    <tr>\n",
       "      <th>0</th>\n",
       "      <td>0</td>\n",
       "      <td>2015-12-27</td>\n",
       "      <td>1.33</td>\n",
       "      <td>64236.62</td>\n",
       "      <td>1036.74</td>\n",
       "      <td>54454.85</td>\n",
       "      <td>48.16</td>\n",
       "      <td>8696.87</td>\n",
       "      <td>8603.62</td>\n",
       "      <td>93.25</td>\n",
       "      <td>0.0</td>\n",
       "      <td>conventional</td>\n",
       "      <td>2015</td>\n",
       "      <td>Albany</td>\n",
       "    </tr>\n",
       "    <tr>\n",
       "      <th>1</th>\n",
       "      <td>1</td>\n",
       "      <td>2015-12-20</td>\n",
       "      <td>1.35</td>\n",
       "      <td>54876.98</td>\n",
       "      <td>674.28</td>\n",
       "      <td>44638.81</td>\n",
       "      <td>58.33</td>\n",
       "      <td>9505.56</td>\n",
       "      <td>9408.07</td>\n",
       "      <td>97.49</td>\n",
       "      <td>0.0</td>\n",
       "      <td>conventional</td>\n",
       "      <td>2015</td>\n",
       "      <td>Albany</td>\n",
       "    </tr>\n",
       "    <tr>\n",
       "      <th>2</th>\n",
       "      <td>2</td>\n",
       "      <td>2015-12-13</td>\n",
       "      <td>0.93</td>\n",
       "      <td>118220.22</td>\n",
       "      <td>794.7</td>\n",
       "      <td>109149.67</td>\n",
       "      <td>130.50</td>\n",
       "      <td>8145.35</td>\n",
       "      <td>8042.21</td>\n",
       "      <td>103.14</td>\n",
       "      <td>0.0</td>\n",
       "      <td>conventional</td>\n",
       "      <td>2015</td>\n",
       "      <td>Albany</td>\n",
       "    </tr>\n",
       "    <tr>\n",
       "      <th>3</th>\n",
       "      <td>3</td>\n",
       "      <td>2015-12-06</td>\n",
       "      <td>1.08</td>\n",
       "      <td>78992.15</td>\n",
       "      <td>1132.0</td>\n",
       "      <td>71976.41</td>\n",
       "      <td>72.58</td>\n",
       "      <td>5811.16</td>\n",
       "      <td>5677.40</td>\n",
       "      <td>133.76</td>\n",
       "      <td>0.0</td>\n",
       "      <td>conventional</td>\n",
       "      <td>2015</td>\n",
       "      <td>Albany</td>\n",
       "    </tr>\n",
       "    <tr>\n",
       "      <th>4</th>\n",
       "      <td>4</td>\n",
       "      <td>2015-11-29</td>\n",
       "      <td>1.28</td>\n",
       "      <td>51039.60</td>\n",
       "      <td>941.48</td>\n",
       "      <td>43838.39</td>\n",
       "      <td>75.78</td>\n",
       "      <td>6183.95</td>\n",
       "      <td>5986.26</td>\n",
       "      <td>197.69</td>\n",
       "      <td>0.0</td>\n",
       "      <td>conventional</td>\n",
       "      <td>2015</td>\n",
       "      <td>Albany</td>\n",
       "    </tr>\n",
       "  </tbody>\n",
       "</table>\n",
       "</div>"
      ],
      "text/plain": [
       "   Unnamed: 0       Date  AveragePrice  Total Volume     4046       4225  \\\n",
       "0           0 2015-12-27          1.33      64236.62  1036.74   54454.85   \n",
       "1           1 2015-12-20          1.35      54876.98   674.28   44638.81   \n",
       "2           2 2015-12-13          0.93     118220.22    794.7  109149.67   \n",
       "3           3 2015-12-06          1.08      78992.15   1132.0   71976.41   \n",
       "4           4 2015-11-29          1.28      51039.60   941.48   43838.39   \n",
       "\n",
       "     4770  Total Bags  Small Bags  Large Bags  XLarge Bags          type  \\\n",
       "0   48.16     8696.87     8603.62       93.25          0.0  conventional   \n",
       "1   58.33     9505.56     9408.07       97.49          0.0  conventional   \n",
       "2  130.50     8145.35     8042.21      103.14          0.0  conventional   \n",
       "3   72.58     5811.16     5677.40      133.76          0.0  conventional   \n",
       "4   75.78     6183.95     5986.26      197.69          0.0  conventional   \n",
       "\n",
       "   year  region  \n",
       "0  2015  Albany  \n",
       "1  2015  Albany  \n",
       "2  2015  Albany  \n",
       "3  2015  Albany  \n",
       "4  2015  Albany  "
      ]
     },
     "execution_count": 4,
     "metadata": {},
     "output_type": "execute_result"
    }
   ],
   "source": [
    "import pandas as pd\n",
    "from pathlib import Path\n",
    "\n",
    "csv_path = Path('../data/avocado.csv')\n",
    "df = pd.read_csv(csv_path, parse_dates=['Date'])\n",
    "df.head()\n"
   ]
  },
  {
   "cell_type": "code",
   "execution_count": 12,
   "id": "629cf394",
   "metadata": {},
   "outputs": [
    {
     "name": "stdout",
     "output_type": "stream",
     "text": [
      "4046이 저렴한 지역:                  region  price_4046  price_4225  price_4770\n",
      "4                Boston    0.038530    1.477943    0.014415\n",
      "23           Louisville    0.049524    1.220342    0.016820\n",
      "30   NorthernNewEngland    0.067027    1.397671    0.012698\n",
      "17  HartfordSpringfield    0.067862    1.742384    0.008393\n",
      "9      CincinnatiDayton    0.080559    1.105923    0.022719\n",
      "4225이 저렴한 지역:               region  price_4046  price_4225  price_4770\n",
      "18           Houston    0.893239    0.141881    0.012809\n",
      "11     DallasFtWorth    0.896689    0.178973    0.009930\n",
      "27  NewOrleansMobile    1.095759    0.205604    0.003429\n",
      "45      SouthCentral    0.865295    0.223844    0.012104\n",
      "31           Orlando    1.156741    0.348792    0.000680\n",
      "4770이 저렴한 지역:                region  price_4046  price_4225  price_4770\n",
      "50              Tampa    1.052043    0.356316    0.000487\n",
      "31            Orlando    1.156741    0.348792    0.000680\n",
      "24  MiamiFtLauderdale    1.033246    0.394399    0.000846\n",
      "1             Atlanta    0.664068    0.672952    0.000939\n",
      "39            Roanoke    0.313606    0.933342    0.000981\n"
     ]
    }
   ],
   "source": [
    "df['4046'] = pd.to_numeric(df['4046'], errors='coerce')\n",
    "df['4225'] = pd.to_numeric(df['4225'], errors='coerce')\n",
    "df['4770'] = pd.to_numeric(df['4770'], errors='coerce')\n",
    "df['AveragePrice'] = pd.to_numeric(df['AveragePrice'], errors='coerce')\n",
    "\n",
    "# 3개 PLU의 총합 계산\n",
    "df['PLU_Total'] = df['4046'] + df['4225'] + df['4770']\n",
    "\n",
    "# 각 PLU별 판매 비율\n",
    "df['ratio_4046'] = df['4046'] / df['PLU_Total']\n",
    "df['ratio_4225'] = df['4225'] / df['PLU_Total']\n",
    "df['ratio_4770'] = df['4770'] / df['PLU_Total']\n",
    "\n",
    "# PLU별 단가 근사치 계산\n",
    "df['price_4046'] = df['AveragePrice'] * df['ratio_4046']\n",
    "df['price_4225'] = df['AveragePrice'] * df['ratio_4225']\n",
    "df['price_4770'] = df['AveragePrice'] * df['ratio_4770']\n",
    "\n",
    "region_price_by_plu = df.groupby('region')[\n",
    "    ['price_4046', 'price_4225', 'price_4770']\n",
    "].mean().reset_index()\n",
    "\n",
    "# 가장 저렴한 PLU 지역 찾기\n",
    "cheap_4046 = region_price_by_plu.sort_values('price_4046').head(5)\n",
    "cheap_4225 = region_price_by_plu.sort_values('price_4225').head(5)\n",
    "cheap_4770 = region_price_by_plu.sort_values('price_4770').head(5)\n",
    "\n",
    "print(\"4046이 저렴한 지역:\", cheap_4046)\n",
    "print(\"4225이 저렴한 지역:\", cheap_4225)\n",
    "print(\"4770이 저렴한 지역:\", cheap_4770)\n"
   ]
  },
  {
   "cell_type": "code",
   "execution_count": null,
   "id": "459344d1",
   "metadata": {},
   "outputs": [],
   "source": [
    "heatmap_df = region_price_by_plu.melt(id_vars='region', \n",
    "                                       value_vars=['price_4046', 'price_4225', 'price_4770'],\n",
    "                                       var_name='PLU_Code', \n",
    "                                       value_name='Avg_Price')\n"
   ]
  },
  {
   "cell_type": "code",
   "execution_count": null,
   "id": "f4fa5844",
   "metadata": {},
   "outputs": [
    {
     "data": {
      "application/vnd.plotly.v1+json": {
       "config": {
        "plotlyServerURL": "https://plot.ly"
       },
       "data": [
        {
         "coloraxis": "coloraxis",
         "histfunc": "sum",
         "hovertemplate": "PLU_Code=%{x}<br>region=%{y}<br>sum of Avg_Price=%{z}<extra></extra>",
         "name": "",
         "texttemplate": "%{z:.2f}",
         "type": "histogram2d",
         "x": [
          "price_4046",
          "price_4046",
          "price_4046",
          "price_4046",
          "price_4046",
          "price_4046",
          "price_4046",
          "price_4046",
          "price_4046",
          "price_4046",
          "price_4046",
          "price_4046",
          "price_4046",
          "price_4046",
          "price_4046",
          "price_4046",
          "price_4046",
          "price_4046",
          "price_4046",
          "price_4046",
          "price_4046",
          "price_4046",
          "price_4046",
          "price_4046",
          "price_4046",
          "price_4046",
          "price_4046",
          "price_4046",
          "price_4046",
          "price_4046",
          "price_4046",
          "price_4046",
          "price_4046",
          "price_4046",
          "price_4046",
          "price_4046",
          "price_4046",
          "price_4046",
          "price_4046",
          "price_4046",
          "price_4046",
          "price_4046",
          "price_4046",
          "price_4046",
          "price_4046",
          "price_4046",
          "price_4046",
          "price_4046",
          "price_4046",
          "price_4046",
          "price_4046",
          "price_4046",
          "price_4046",
          "price_4046",
          "price_4225",
          "price_4225",
          "price_4225",
          "price_4225",
          "price_4225",
          "price_4225",
          "price_4225",
          "price_4225",
          "price_4225",
          "price_4225",
          "price_4225",
          "price_4225",
          "price_4225",
          "price_4225",
          "price_4225",
          "price_4225",
          "price_4225",
          "price_4225",
          "price_4225",
          "price_4225",
          "price_4225",
          "price_4225",
          "price_4225",
          "price_4225",
          "price_4225",
          "price_4225",
          "price_4225",
          "price_4225",
          "price_4225",
          "price_4225",
          "price_4225",
          "price_4225",
          "price_4225",
          "price_4225",
          "price_4225",
          "price_4225",
          "price_4225",
          "price_4225",
          "price_4225",
          "price_4225",
          "price_4225",
          "price_4225",
          "price_4225",
          "price_4225",
          "price_4225",
          "price_4225",
          "price_4225",
          "price_4225",
          "price_4225",
          "price_4225",
          "price_4225",
          "price_4225",
          "price_4225",
          "price_4225",
          "price_4770",
          "price_4770",
          "price_4770",
          "price_4770",
          "price_4770",
          "price_4770",
          "price_4770",
          "price_4770",
          "price_4770",
          "price_4770",
          "price_4770",
          "price_4770",
          "price_4770",
          "price_4770",
          "price_4770",
          "price_4770",
          "price_4770",
          "price_4770",
          "price_4770",
          "price_4770",
          "price_4770",
          "price_4770",
          "price_4770",
          "price_4770",
          "price_4770",
          "price_4770",
          "price_4770",
          "price_4770",
          "price_4770",
          "price_4770",
          "price_4770",
          "price_4770",
          "price_4770",
          "price_4770",
          "price_4770",
          "price_4770",
          "price_4770",
          "price_4770",
          "price_4770",
          "price_4770",
          "price_4770",
          "price_4770",
          "price_4770",
          "price_4770",
          "price_4770",
          "price_4770",
          "price_4770",
          "price_4770",
          "price_4770",
          "price_4770",
          "price_4770",
          "price_4770",
          "price_4770",
          "price_4770"
         ],
         "xaxis": "x",
         "xbingroup": "x",
         "y": [
          "Albany",
          "Atlanta",
          "BaltimoreWashington",
          "Boise",
          "Boston",
          "BuffaloRochester",
          "California",
          "Charlotte",
          "Chicago",
          "CincinnatiDayton",
          "Columbus",
          "DallasFtWorth",
          "Denver",
          "Detroit",
          "GrandRapids",
          "GreatLakes",
          "HarrisburgScranton",
          "HartfordSpringfield",
          "Houston",
          "Indianapolis",
          "Jacksonville",
          "LasVegas",
          "LosAngeles",
          "Louisville",
          "MiamiFtLauderdale",
          "Midsouth",
          "Nashville",
          "NewOrleansMobile",
          "NewYork",
          "Northeast",
          "NorthernNewEngland",
          "Orlando",
          "Philadelphia",
          "PhoenixTucson",
          "Pittsburgh",
          "Plains",
          "Portland",
          "RaleighGreensboro",
          "RichmondNorfolk",
          "Roanoke",
          "Sacramento",
          "SanDiego",
          "SanFrancisco",
          "Seattle",
          "SouthCarolina",
          "SouthCentral",
          "Southeast",
          "Spokane",
          "StLouis",
          "Syracuse",
          "Tampa",
          "TotalUS",
          "West",
          "WestTexNewMexico",
          "Albany",
          "Atlanta",
          "BaltimoreWashington",
          "Boise",
          "Boston",
          "BuffaloRochester",
          "California",
          "Charlotte",
          "Chicago",
          "CincinnatiDayton",
          "Columbus",
          "DallasFtWorth",
          "Denver",
          "Detroit",
          "GrandRapids",
          "GreatLakes",
          "HarrisburgScranton",
          "HartfordSpringfield",
          "Houston",
          "Indianapolis",
          "Jacksonville",
          "LasVegas",
          "LosAngeles",
          "Louisville",
          "MiamiFtLauderdale",
          "Midsouth",
          "Nashville",
          "NewOrleansMobile",
          "NewYork",
          "Northeast",
          "NorthernNewEngland",
          "Orlando",
          "Philadelphia",
          "PhoenixTucson",
          "Pittsburgh",
          "Plains",
          "Portland",
          "RaleighGreensboro",
          "RichmondNorfolk",
          "Roanoke",
          "Sacramento",
          "SanDiego",
          "SanFrancisco",
          "Seattle",
          "SouthCarolina",
          "SouthCentral",
          "Southeast",
          "Spokane",
          "StLouis",
          "Syracuse",
          "Tampa",
          "TotalUS",
          "West",
          "WestTexNewMexico",
          "Albany",
          "Atlanta",
          "BaltimoreWashington",
          "Boise",
          "Boston",
          "BuffaloRochester",
          "California",
          "Charlotte",
          "Chicago",
          "CincinnatiDayton",
          "Columbus",
          "DallasFtWorth",
          "Denver",
          "Detroit",
          "GrandRapids",
          "GreatLakes",
          "HarrisburgScranton",
          "HartfordSpringfield",
          "Houston",
          "Indianapolis",
          "Jacksonville",
          "LasVegas",
          "LosAngeles",
          "Louisville",
          "MiamiFtLauderdale",
          "Midsouth",
          "Nashville",
          "NewOrleansMobile",
          "NewYork",
          "Northeast",
          "NorthernNewEngland",
          "Orlando",
          "Philadelphia",
          "PhoenixTucson",
          "Pittsburgh",
          "Plains",
          "Portland",
          "RaleighGreensboro",
          "RichmondNorfolk",
          "Roanoke",
          "Sacramento",
          "SanDiego",
          "SanFrancisco",
          "Seattle",
          "SouthCarolina",
          "SouthCentral",
          "Southeast",
          "Spokane",
          "StLouis",
          "Syracuse",
          "Tampa",
          "TotalUS",
          "West",
          "WestTexNewMexico"
         ],
         "yaxis": "y",
         "ybingroup": "y",
         "z": {
          "bdata": "yMHBY0EWzD/ZZtx4C0DlP20WD9UFk9A/D9okYK9t3D/7nk/CQLqjP3JhyluaYMc/w6yA6bm44T/fAxsIK67RP4gy1xsWJrY/UDghu4SftD8+2KdBpn7eP8JByA+tsew/bnYnQF5b5j9/grKYT5zYP19mfEM5GcQ/GJX7ABDEyT+0bAzjw5bhP6otuiVsX7E/JKXwu2mV7D8dEcSh+RXFP3Tw4+SIIPI/BfDjeU+L5D8Ebcpr+vfiPzAS78g1W6k/Lar0ySyI8D83vZKCUFvRP0oCPgvBud4/63YC6DqI8T9cf/cixE7QPyFkmlMDdM8/YiH0V7YosT9U7djSAoLyP7yBe/zepNI/NM5ZAxbB6T83aEL50FbqPxtjjaAPSuA/3Mbr0Lxn3D/Uqrn6uU/RPxEDebblINM/lFRVbh8S1D9MeQdZOg7iP9m6VLLsEN0/yNl4BO/r4T9e0KNsXdXVP+DBIchGpuA/TKuvdH6w6z8vEvFi7NboP/cR6nPYdtk/fFzJNMeU6z9t0Wo/bmu9P6I/J5Mq1fA/DaTvgIV14D/tGA53YTPjP0UvqYmMf+Q/JLncUFtv9T+T3avy0YjlP2vkr+ISZPM/X5lBhr2w6j+gGe8ap6X3P15dyAxAS/U/qMaEGIEw6j8Cwk8zMI7wP4bUzpRAhvU/b9+Kpdyx8T+rvsWHhIXnPzmNbKqT6MY/38yAyS7Q3z/lkaT9ys/oPzPwW85XpPM/Rut7lmgK8T9NMsyi81LtP6dGEpTN4Ps/cwYCPikpwj97OQITiMfxP3wTf+C0fdc/1V8fBywY5z8Gz+ycaDvjP35uUGSFhvM/s/REbNQ92T+351tejPnwP0B3Wm/14uY/REoEsT1Ryj/EdjtQ2dH2P9CdmRWaPPU/8q05atxc9j/NnXRVm1LWP+2Mp9ZXN/U/JO0tS86C2j9zW5ssUbrgP9DLhX6rWew/sx5RbrkT6z+5rDdjN6DxP5x+sYbUee0/LM1ax+/d7T+Fl2MG2q/wP++J+rQ8Ue0/s1I28gmP8z8kivoW/HHxP2ouqqFUyOg/y08MReymzD8bKXCo3yzjP8CHZcdxe/A/F4rKREIe4j/3HMzgjXD2P0Zjva7izdY/SlH0vbrZ6D83mPh7jP7kPyXxM5BTI+M/6QIKwBcLZz+ULTTeXcROPztSIoMTNrA/OACPwsjisT/Gv3J/a4WNP6sL1PZvQWs/4oyvMNGolz9a9gBNXeLSP8Um0IKx/r8/Sf1CdZlDlz/ytJqFCh+lP6bzkA43VoQ/k6Ai8LJklz8O/eKtjb69P1wRw6e+z74/X/4MB5J8sj/es+SAsTGoP0aSsZB2MIE/nNSj1JU7ij/68ocy7HqjP05HpM8wcIY/frRCvrWfkT/Xz96gRsSWP/HjNFhZOZE/l09Oeuq8Sz+LUImaiZiyP4d+WCQnNpE/dptems0XbD9YVbT+R9OnP8jwI+Xll50/+3Ut+VIBij9WCwRWUElGP4hLtlZ5Uo4/ZzGPdZUNdj+AcenU6OuSP8lnO3JlQqU/5roxfuhlnD9TvYYd72zHP8y/IBx2QrI/lQhKSZUSUD+/zMCoEX2NPwVZertcgpw/wrVKvCZAlj/kPdzqfrqGP3lzSN7DyLs/Jx7/vObJiD/ziSu7dRiXP9d878U4/5E//3HTbtmcZD+ZtlsFAvhnPzQ10HNO8D8/X+tSIRzGnD/LsVga0YKQP4tjaKN2n5c/",
          "dtype": "f8"
         }
        }
       ],
       "layout": {
        "coloraxis": {
         "colorbar": {
          "title": {
           "text": "sum of Avg_Price"
          }
         },
         "colorscale": [
          [
           0,
           "rgb(255,255,217)"
          ],
          [
           0.125,
           "rgb(237,248,177)"
          ],
          [
           0.25,
           "rgb(199,233,180)"
          ],
          [
           0.375,
           "rgb(127,205,187)"
          ],
          [
           0.5,
           "rgb(65,182,196)"
          ],
          [
           0.625,
           "rgb(29,145,192)"
          ],
          [
           0.75,
           "rgb(34,94,168)"
          ],
          [
           0.875,
           "rgb(37,52,148)"
          ],
          [
           1,
           "rgb(8,29,88)"
          ]
         ]
        },
        "height": 900,
        "legend": {
         "tracegroupgap": 0
        },
        "template": {
         "data": {
          "bar": [
           {
            "error_x": {
             "color": "#2a3f5f"
            },
            "error_y": {
             "color": "#2a3f5f"
            },
            "marker": {
             "line": {
              "color": "#E5ECF6",
              "width": 0.5
             },
             "pattern": {
              "fillmode": "overlay",
              "size": 10,
              "solidity": 0.2
             }
            },
            "type": "bar"
           }
          ],
          "barpolar": [
           {
            "marker": {
             "line": {
              "color": "#E5ECF6",
              "width": 0.5
             },
             "pattern": {
              "fillmode": "overlay",
              "size": 10,
              "solidity": 0.2
             }
            },
            "type": "barpolar"
           }
          ],
          "carpet": [
           {
            "aaxis": {
             "endlinecolor": "#2a3f5f",
             "gridcolor": "white",
             "linecolor": "white",
             "minorgridcolor": "white",
             "startlinecolor": "#2a3f5f"
            },
            "baxis": {
             "endlinecolor": "#2a3f5f",
             "gridcolor": "white",
             "linecolor": "white",
             "minorgridcolor": "white",
             "startlinecolor": "#2a3f5f"
            },
            "type": "carpet"
           }
          ],
          "choropleth": [
           {
            "colorbar": {
             "outlinewidth": 0,
             "ticks": ""
            },
            "type": "choropleth"
           }
          ],
          "contour": [
           {
            "colorbar": {
             "outlinewidth": 0,
             "ticks": ""
            },
            "colorscale": [
             [
              0,
              "#0d0887"
             ],
             [
              0.1111111111111111,
              "#46039f"
             ],
             [
              0.2222222222222222,
              "#7201a8"
             ],
             [
              0.3333333333333333,
              "#9c179e"
             ],
             [
              0.4444444444444444,
              "#bd3786"
             ],
             [
              0.5555555555555556,
              "#d8576b"
             ],
             [
              0.6666666666666666,
              "#ed7953"
             ],
             [
              0.7777777777777778,
              "#fb9f3a"
             ],
             [
              0.8888888888888888,
              "#fdca26"
             ],
             [
              1,
              "#f0f921"
             ]
            ],
            "type": "contour"
           }
          ],
          "contourcarpet": [
           {
            "colorbar": {
             "outlinewidth": 0,
             "ticks": ""
            },
            "type": "contourcarpet"
           }
          ],
          "heatmap": [
           {
            "colorbar": {
             "outlinewidth": 0,
             "ticks": ""
            },
            "colorscale": [
             [
              0,
              "#0d0887"
             ],
             [
              0.1111111111111111,
              "#46039f"
             ],
             [
              0.2222222222222222,
              "#7201a8"
             ],
             [
              0.3333333333333333,
              "#9c179e"
             ],
             [
              0.4444444444444444,
              "#bd3786"
             ],
             [
              0.5555555555555556,
              "#d8576b"
             ],
             [
              0.6666666666666666,
              "#ed7953"
             ],
             [
              0.7777777777777778,
              "#fb9f3a"
             ],
             [
              0.8888888888888888,
              "#fdca26"
             ],
             [
              1,
              "#f0f921"
             ]
            ],
            "type": "heatmap"
           }
          ],
          "histogram": [
           {
            "marker": {
             "pattern": {
              "fillmode": "overlay",
              "size": 10,
              "solidity": 0.2
             }
            },
            "type": "histogram"
           }
          ],
          "histogram2d": [
           {
            "colorbar": {
             "outlinewidth": 0,
             "ticks": ""
            },
            "colorscale": [
             [
              0,
              "#0d0887"
             ],
             [
              0.1111111111111111,
              "#46039f"
             ],
             [
              0.2222222222222222,
              "#7201a8"
             ],
             [
              0.3333333333333333,
              "#9c179e"
             ],
             [
              0.4444444444444444,
              "#bd3786"
             ],
             [
              0.5555555555555556,
              "#d8576b"
             ],
             [
              0.6666666666666666,
              "#ed7953"
             ],
             [
              0.7777777777777778,
              "#fb9f3a"
             ],
             [
              0.8888888888888888,
              "#fdca26"
             ],
             [
              1,
              "#f0f921"
             ]
            ],
            "type": "histogram2d"
           }
          ],
          "histogram2dcontour": [
           {
            "colorbar": {
             "outlinewidth": 0,
             "ticks": ""
            },
            "colorscale": [
             [
              0,
              "#0d0887"
             ],
             [
              0.1111111111111111,
              "#46039f"
             ],
             [
              0.2222222222222222,
              "#7201a8"
             ],
             [
              0.3333333333333333,
              "#9c179e"
             ],
             [
              0.4444444444444444,
              "#bd3786"
             ],
             [
              0.5555555555555556,
              "#d8576b"
             ],
             [
              0.6666666666666666,
              "#ed7953"
             ],
             [
              0.7777777777777778,
              "#fb9f3a"
             ],
             [
              0.8888888888888888,
              "#fdca26"
             ],
             [
              1,
              "#f0f921"
             ]
            ],
            "type": "histogram2dcontour"
           }
          ],
          "mesh3d": [
           {
            "colorbar": {
             "outlinewidth": 0,
             "ticks": ""
            },
            "type": "mesh3d"
           }
          ],
          "parcoords": [
           {
            "line": {
             "colorbar": {
              "outlinewidth": 0,
              "ticks": ""
             }
            },
            "type": "parcoords"
           }
          ],
          "pie": [
           {
            "automargin": true,
            "type": "pie"
           }
          ],
          "scatter": [
           {
            "fillpattern": {
             "fillmode": "overlay",
             "size": 10,
             "solidity": 0.2
            },
            "type": "scatter"
           }
          ],
          "scatter3d": [
           {
            "line": {
             "colorbar": {
              "outlinewidth": 0,
              "ticks": ""
             }
            },
            "marker": {
             "colorbar": {
              "outlinewidth": 0,
              "ticks": ""
             }
            },
            "type": "scatter3d"
           }
          ],
          "scattercarpet": [
           {
            "marker": {
             "colorbar": {
              "outlinewidth": 0,
              "ticks": ""
             }
            },
            "type": "scattercarpet"
           }
          ],
          "scattergeo": [
           {
            "marker": {
             "colorbar": {
              "outlinewidth": 0,
              "ticks": ""
             }
            },
            "type": "scattergeo"
           }
          ],
          "scattergl": [
           {
            "marker": {
             "colorbar": {
              "outlinewidth": 0,
              "ticks": ""
             }
            },
            "type": "scattergl"
           }
          ],
          "scattermap": [
           {
            "marker": {
             "colorbar": {
              "outlinewidth": 0,
              "ticks": ""
             }
            },
            "type": "scattermap"
           }
          ],
          "scattermapbox": [
           {
            "marker": {
             "colorbar": {
              "outlinewidth": 0,
              "ticks": ""
             }
            },
            "type": "scattermapbox"
           }
          ],
          "scatterpolar": [
           {
            "marker": {
             "colorbar": {
              "outlinewidth": 0,
              "ticks": ""
             }
            },
            "type": "scatterpolar"
           }
          ],
          "scatterpolargl": [
           {
            "marker": {
             "colorbar": {
              "outlinewidth": 0,
              "ticks": ""
             }
            },
            "type": "scatterpolargl"
           }
          ],
          "scatterternary": [
           {
            "marker": {
             "colorbar": {
              "outlinewidth": 0,
              "ticks": ""
             }
            },
            "type": "scatterternary"
           }
          ],
          "surface": [
           {
            "colorbar": {
             "outlinewidth": 0,
             "ticks": ""
            },
            "colorscale": [
             [
              0,
              "#0d0887"
             ],
             [
              0.1111111111111111,
              "#46039f"
             ],
             [
              0.2222222222222222,
              "#7201a8"
             ],
             [
              0.3333333333333333,
              "#9c179e"
             ],
             [
              0.4444444444444444,
              "#bd3786"
             ],
             [
              0.5555555555555556,
              "#d8576b"
             ],
             [
              0.6666666666666666,
              "#ed7953"
             ],
             [
              0.7777777777777778,
              "#fb9f3a"
             ],
             [
              0.8888888888888888,
              "#fdca26"
             ],
             [
              1,
              "#f0f921"
             ]
            ],
            "type": "surface"
           }
          ],
          "table": [
           {
            "cells": {
             "fill": {
              "color": "#EBF0F8"
             },
             "line": {
              "color": "white"
             }
            },
            "header": {
             "fill": {
              "color": "#C8D4E3"
             },
             "line": {
              "color": "white"
             }
            },
            "type": "table"
           }
          ]
         },
         "layout": {
          "annotationdefaults": {
           "arrowcolor": "#2a3f5f",
           "arrowhead": 0,
           "arrowwidth": 1
          },
          "autotypenumbers": "strict",
          "coloraxis": {
           "colorbar": {
            "outlinewidth": 0,
            "ticks": ""
           }
          },
          "colorscale": {
           "diverging": [
            [
             0,
             "#8e0152"
            ],
            [
             0.1,
             "#c51b7d"
            ],
            [
             0.2,
             "#de77ae"
            ],
            [
             0.3,
             "#f1b6da"
            ],
            [
             0.4,
             "#fde0ef"
            ],
            [
             0.5,
             "#f7f7f7"
            ],
            [
             0.6,
             "#e6f5d0"
            ],
            [
             0.7,
             "#b8e186"
            ],
            [
             0.8,
             "#7fbc41"
            ],
            [
             0.9,
             "#4d9221"
            ],
            [
             1,
             "#276419"
            ]
           ],
           "sequential": [
            [
             0,
             "#0d0887"
            ],
            [
             0.1111111111111111,
             "#46039f"
            ],
            [
             0.2222222222222222,
             "#7201a8"
            ],
            [
             0.3333333333333333,
             "#9c179e"
            ],
            [
             0.4444444444444444,
             "#bd3786"
            ],
            [
             0.5555555555555556,
             "#d8576b"
            ],
            [
             0.6666666666666666,
             "#ed7953"
            ],
            [
             0.7777777777777778,
             "#fb9f3a"
            ],
            [
             0.8888888888888888,
             "#fdca26"
            ],
            [
             1,
             "#f0f921"
            ]
           ],
           "sequentialminus": [
            [
             0,
             "#0d0887"
            ],
            [
             0.1111111111111111,
             "#46039f"
            ],
            [
             0.2222222222222222,
             "#7201a8"
            ],
            [
             0.3333333333333333,
             "#9c179e"
            ],
            [
             0.4444444444444444,
             "#bd3786"
            ],
            [
             0.5555555555555556,
             "#d8576b"
            ],
            [
             0.6666666666666666,
             "#ed7953"
            ],
            [
             0.7777777777777778,
             "#fb9f3a"
            ],
            [
             0.8888888888888888,
             "#fdca26"
            ],
            [
             1,
             "#f0f921"
            ]
           ]
          },
          "colorway": [
           "#636efa",
           "#EF553B",
           "#00cc96",
           "#ab63fa",
           "#FFA15A",
           "#19d3f3",
           "#FF6692",
           "#B6E880",
           "#FF97FF",
           "#FECB52"
          ],
          "font": {
           "color": "#2a3f5f"
          },
          "geo": {
           "bgcolor": "white",
           "lakecolor": "white",
           "landcolor": "#E5ECF6",
           "showlakes": true,
           "showland": true,
           "subunitcolor": "white"
          },
          "hoverlabel": {
           "align": "left"
          },
          "hovermode": "closest",
          "mapbox": {
           "style": "light"
          },
          "paper_bgcolor": "white",
          "plot_bgcolor": "#E5ECF6",
          "polar": {
           "angularaxis": {
            "gridcolor": "white",
            "linecolor": "white",
            "ticks": ""
           },
           "bgcolor": "#E5ECF6",
           "radialaxis": {
            "gridcolor": "white",
            "linecolor": "white",
            "ticks": ""
           }
          },
          "scene": {
           "xaxis": {
            "backgroundcolor": "#E5ECF6",
            "gridcolor": "white",
            "gridwidth": 2,
            "linecolor": "white",
            "showbackground": true,
            "ticks": "",
            "zerolinecolor": "white"
           },
           "yaxis": {
            "backgroundcolor": "#E5ECF6",
            "gridcolor": "white",
            "gridwidth": 2,
            "linecolor": "white",
            "showbackground": true,
            "ticks": "",
            "zerolinecolor": "white"
           },
           "zaxis": {
            "backgroundcolor": "#E5ECF6",
            "gridcolor": "white",
            "gridwidth": 2,
            "linecolor": "white",
            "showbackground": true,
            "ticks": "",
            "zerolinecolor": "white"
           }
          },
          "shapedefaults": {
           "line": {
            "color": "#2a3f5f"
           }
          },
          "ternary": {
           "aaxis": {
            "gridcolor": "white",
            "linecolor": "white",
            "ticks": ""
           },
           "baxis": {
            "gridcolor": "white",
            "linecolor": "white",
            "ticks": ""
           },
           "bgcolor": "#E5ECF6",
           "caxis": {
            "gridcolor": "white",
            "linecolor": "white",
            "ticks": ""
           }
          },
          "title": {
           "x": 0.05
          },
          "xaxis": {
           "automargin": true,
           "gridcolor": "white",
           "linecolor": "white",
           "ticks": "",
           "title": {
            "standoff": 15
           },
           "zerolinecolor": "white",
           "zerolinewidth": 2
          },
          "yaxis": {
           "automargin": true,
           "gridcolor": "white",
           "linecolor": "white",
           "ticks": "",
           "title": {
            "standoff": 15
           },
           "zerolinecolor": "white",
           "zerolinewidth": 2
          }
         }
        },
        "title": {
         "text": "지역별 PLU 코드별 평균 단가 (근사값)"
        },
        "xaxis": {
         "anchor": "y",
         "domain": [
          0,
          1
         ],
         "title": {
          "text": "PLU 코드"
         }
        },
        "yaxis": {
         "anchor": "x",
         "domain": [
          0,
          1
         ],
         "title": {
          "text": "지역"
         }
        }
       }
      }
     },
     "metadata": {},
     "output_type": "display_data"
    }
   ],
   "source": [
    "import plotly.express as px\n",
    "\n",
    "fig = px.density_heatmap(\n",
    "    heatmap_df,\n",
    "    x='PLU_Code',\n",
    "    y='region',\n",
    "    z='Avg_Price',\n",
    "    color_continuous_scale='YlGnBu',\n",
    "    text_auto='.2f',\n",
    "    title='지역별 PLU 코드별 평균 단가 (근사값)'\n",
    ")\n",
    "\n",
    "fig.update_layout(\n",
    "    xaxis_title=\"PLU 코드\",\n",
    "    yaxis_title=\"지역\",\n",
    "    height=900\n",
    ")\n",
    "\n",
    "fig.show()\n"
   ]
  }
 ],
 "metadata": {
  "kernelspec": {
   "display_name": "venv",
   "language": "python",
   "name": "python3"
  },
  "language_info": {
   "codemirror_mode": {
    "name": "ipython",
    "version": 3
   },
   "file_extension": ".py",
   "mimetype": "text/x-python",
   "name": "python",
   "nbconvert_exporter": "python",
   "pygments_lexer": "ipython3",
   "version": "3.11.7"
  }
 },
 "nbformat": 4,
 "nbformat_minor": 5
}
